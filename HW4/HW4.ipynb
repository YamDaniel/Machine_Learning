{
 "cells": [
  {
   "cell_type": "markdown",
   "metadata": {},
   "source": [
    "# Exercise 4: Logistic Regression, Bayes and EM\n",
    "\n",
    "In this assignment you will implement several algorithms as learned in class.\n",
    "\n",
    "## Read the following instructions carefully:\n",
    "\n",
    "1. This jupyter notebook contains all the step by step instructions needed for this exercise.\n",
    "2. Write **efficient vectorized** code whenever possible. Some calculations in this exercise take several minutes when implemented efficiently, and might take much longer otherwise. Unnecessary loops will result in point deduction.\n",
    "3. You are responsible for the correctness of your code and should add as many tests as you see fit. Tests will not be graded nor checked.\n",
    "4. Write your functions in this notebook only. **Do not create Python modules and import them**.\n",
    "5. You are allowed to use functions and methods from the [Python Standard Library](https://docs.python.org/3/library/) and [numpy](https://www.numpy.org/devdocs/reference/) and pandas. \n",
    "6. Your code must run without errors. During the environment setup, you were given a specific version of `numpy` to install (1.15.4). Changes of the configuration we provided are at your own risk. Any code that cannot run will not be graded.\n",
    "7. Write your own code. Cheating will not be tolerated.\n",
    "8. Submission includes this notebook only with the exercise number and your ID as the filename. For example: `hw4_123456789_987654321.ipynb` if you submitted in pairs and `hw4_123456789.ipynb` if you submitted the exercise alone.\n",
    "9. Answers to qualitative questions should be written in **markdown** cells (with $\\LaTeX$ support). Answers that will be written in commented code blocks will not be checked.\n",
    "\n",
    "## In this exercise you will perform the following:\n",
    "1. Implement Logistic Regression algorithm.\n",
    "1. Implement EM algorithm.\n",
    "1. Implement Navie Bayes algorithm that uses EM for calculating the likelihood.\n",
    "1. Visualize your results."
   ]
  },
  {
   "cell_type": "markdown",
   "metadata": {},
   "source": [
    "# I have read and understood the instructions: 311515381"
   ]
  },
  {
   "cell_type": "code",
   "execution_count": 1,
   "metadata": {},
   "outputs": [],
   "source": [
    "import numpy as np\n",
    "import pandas as pd\n",
    "from matplotlib.colors import ListedColormap\n",
    "import matplotlib.pyplot as plt\n",
    "\n",
    "# make matplotlib figures appear inline in the notebook\n",
    "%matplotlib inline\n",
    "plt.rcParams['figure.figsize'] = (10.0, 8.0) # set default size of plots\n",
    "plt.rcParams['image.interpolation'] = 'nearest'\n",
    "plt.rcParams['image.cmap'] = 'gray'\n",
    "\n",
    "# Make the notebook automatically reload external python modules\n",
    "%load_ext autoreload\n",
    "%autoreload 2\n",
    "# Ignore warnings\n",
    "import warnings\n",
    "warnings.filterwarnings('ignore')"
   ]
  },
  {
   "cell_type": "code",
   "execution_count": 2,
   "metadata": {},
   "outputs": [],
   "source": [
    "# Function for ploting the decision boundaries of a model\n",
    "# You will use it later\n",
    "def plot_decision_regions(X, y, classifier, resolution=0.01):\n",
    "\n",
    "    # setup marker generator and color map\n",
    "    markers = ('.', '.')\n",
    "    colors = ('blue', 'red')\n",
    "    cmap = ListedColormap(colors[:len(np.unique(y))])\n",
    "    # plot the decision surface\n",
    "    x1_min, x1_max = X[:, 0].min() - 1, X[:, 0].max() + 1\n",
    "    x2_min, x2_max = X[:, 1].min() - 1, X[:, 1].max() + 1\n",
    "    xx1, xx2 = np.meshgrid(np.arange(x1_min, x1_max, resolution),\n",
    "                           np.arange(x2_min, x2_max, resolution))\n",
    "    Z = classifier.predict(np.array([xx1.ravel(), xx2.ravel()]).T)\n",
    "    Z = Z.reshape(xx1.shape)\n",
    "    plt.contourf(xx1, xx2, Z, alpha=0.3, cmap=cmap)\n",
    "    plt.xlim(xx1.min(), xx1.max())\n",
    "    plt.ylim(xx2.min(), xx2.max())\n",
    "\n",
    "    for idx, cl in enumerate(np.unique(y)):\n",
    "        plt.scatter(x=X[y == cl, 0], \n",
    "                    y=X[y == cl, 1],\n",
    "                    alpha=0.8, \n",
    "                    c=colors[idx],\n",
    "                    marker=markers[idx], \n",
    "                    label=cl, \n",
    "                    edgecolor='black')"
   ]
  },
  {
   "cell_type": "markdown",
   "metadata": {},
   "source": [
    "## Reading the data"
   ]
  },
  {
   "cell_type": "code",
   "execution_count": 3,
   "metadata": {},
   "outputs": [],
   "source": [
    "training_set = pd.read_csv('training_set.csv')\n",
    "test_set = pd.read_csv('test_set.csv')\n",
    "X_training, y_training = training_set[['x1', 'x2']].values, training_set['y'].values\n",
    "X_test, y_test = test_set[['x1', 'x2']].values, test_set['y'].values"
   ]
  },
  {
   "cell_type": "markdown",
   "metadata": {},
   "source": [
    "## Visualizing the data\n",
    "(2 points each - 8 points total)\n",
    "\n",
    "Plot the following graphs for the training set:\n",
    "\n",
    "For the first feature only:\n",
    "1. For the first 1000 data points plot a histogram for each class on the same graph (use bins=20, alpha=0.5).\n",
    "1. For all the data points plot a histogram for each class on the same graph (use bins=40, alpha=0.5).\n",
    "\n",
    "For both features:\n",
    "1. For the first 1000 data points plot a scatter plot where each class has different color\n",
    "1. For all the data points plot a scatter plot where each class has different color"
   ]
  },
  {
   "cell_type": "code",
   "execution_count": 4,
   "metadata": {},
   "outputs": [],
   "source": [
    "# 1000 data points\n",
    "label_0_1000 = training_set[:1000][training_set['y'] == 0].values[:,0]\n",
    "label_1_1000 = training_set[:1000][training_set['y'] == 1].values[:,0]\n",
    "# All Data points\n",
    "label_0 = training_set[training_set['y'] == 0].values[:,0]\n",
    "label_1 = training_set[training_set['y'] == 1].values[:,0]"
   ]
  },
  {
   "cell_type": "code",
   "execution_count": 5,
   "metadata": {},
   "outputs": [
    {
     "data": {
      "image/png": "[encoded data removed]",
      "text/plain": [
       "<Figure size 720x576 with 1 Axes>"
      ]
     },
     "metadata": {
      "needs_background": "light"
     },
     "output_type": "display_data"
    },
    {
     "data": {
      "image/png": "[encoded data removed]",
      "text/plain": [
       "<Figure size 720x576 with 1 Axes>"
      ]
     },
     "metadata": {
      "needs_background": "light"
     },
     "output_type": "display_data"
    }
   ],
   "source": [
    "# Plotting\n",
    "plt.hist(label_0_1000, bins=20, alpha=0.5, edgecolor='k', label='label 0')\n",
    "plt.hist(label_1_1000, bins=20, alpha=0.5, edgecolor='k', label='label 1')\n",
    "plt.legend(loc='upper right')\n",
    "plt.title(\"1000 data points\")  \n",
    "plt.show()\n",
    "plt.hist(label_0, bins=20, alpha=0.5, edgecolor='k', label='label 0')\n",
    "plt.hist(label_1, bins=20, alpha=0.5, edgecolor='k', label='label 1')\n",
    "plt.legend(loc='upper right')\n",
    "plt.title(\"All data points\", fontsize=15)  \n",
    "plt.show()"
   ]
  },
  {
   "cell_type": "code",
   "execution_count": 6,
   "metadata": {},
   "outputs": [],
   "source": [
    "# 1000 data points\n",
    "label_0_1000_x1 = training_set[:1000][training_set['y'] == 0].values[:,0]\n",
    "label_0_1000_x2 = training_set[:1000][training_set['y'] == 0].values[:,1]\n",
    "label_1_1000_x1 = training_set[:1000][training_set['y'] == 1].values[:,0]\n",
    "label_1_1000_x2 = training_set[:1000][training_set['y'] == 1].values[:,1]\n",
    "# All Data points\n",
    "label_0_x1 = training_set[training_set['y'] == 0].values[:,0]\n",
    "label_0_x2 = training_set[training_set['y'] == 0].values[:,1]\n",
    "label_1_x1 = training_set[training_set['y'] == 1].values[:,0]\n",
    "label_1_x2 = training_set[training_set['y'] == 1].values[:,1]"
   ]
  },
  {
   "cell_type": "code",
   "execution_count": 7,
   "metadata": {},
   "outputs": [
    {
     "data": {
      "text/plain": [
       "<matplotlib.legend.Legend at 0x7fec9983bca0>"
      ]
     },
     "execution_count": 7,
     "metadata": {},
     "output_type": "execute_result"
    },
    {
     "data": {
      "image/png": "[encoded data removed]",
      "text/plain": [
       "<Figure size 720x576 with 1 Axes>"
      ]
     },
     "metadata": {
      "needs_background": "light"
     },
     "output_type": "display_data"
    },
    {
     "data": {
      "image/png": "[encoded data removed]",
      "text/plain": [
       "<Figure size 720x576 with 1 Axes>"
      ]
     },
     "metadata": {
      "needs_background": "light"
     },
     "output_type": "display_data"
    }
   ],
   "source": [
    "# Plotting\n",
    "fig, axes = plt.subplots()\n",
    "axes.scatter(label_0_1000_x1, label_0_1000_x2, label='label 0')\n",
    "axes.scatter(label_1_1000_x1, label_1_1000_x2, label='label 1')\n",
    "axes.set_title(\"1000 data points\", fontsize=15)\n",
    "axes.legend()\n",
    "fig, axes = plt.subplots()\n",
    "axes.scatter(label_0_x1, label_0_x2, label='label 0')\n",
    "axes.scatter(label_1_x1, label_1_x2, label='label 1')\n",
    "axes.set_title(\"All data points\", fontsize=15)\n",
    "axes.legend()"
   ]
  },
  {
   "cell_type": "markdown",
   "metadata": {},
   "source": [
    "## Logistic Regression\n",
    "\n",
    "(15 Points)\n",
    "\n",
    "Implement the Logistic Regression algorithm that uses gradient descent for finding the optimal theta vector. \n",
    "\n",
    "Where:\n",
    "$$\n",
    "h_\\theta(x) = \\frac{1}{1 + e^{-\\theta^T x}}\n",
    "$$\n",
    "\n",
    "$$\n",
    "J(\\theta)=\\frac{1}{m} \\sum_{d=1}^{m} - y^{(d)}ln(h_\\theta(x^{(d)})) - (1 - y^{(d)})ln(1 - h_\\theta(x^{(d)}))\n",
    "$$\n",
    "\n",
    "Your class should contain the following functions:\n",
    "1. fit - the learning function\n",
    "1. predict - the function for predicting an instance after the fit function was executed\n",
    "\n",
    "\\* You can add more functions if you think this is necessary\n",
    "\n",
    "Your model should also store a list of the costs that you've calculated in each iteration"
   ]
  },
  {
   "cell_type": "code",
   "execution_count": 8,
   "metadata": {},
   "outputs": [],
   "source": [
    "class LogisticRegressionGD(object):\n",
    "    \"\"\"\n",
    "    Logistic Regression Classifier using gradient descent.\n",
    "\n",
    "    Parameters\n",
    "    ------------\n",
    "    eta : float\n",
    "      Learning rate (between 0.0 and 1.0)\n",
    "    n_iter : int\n",
    "      Passes over the training dataset.\n",
    "    eps : float\n",
    "      minimal change in the cost to declare convergence\n",
    "    random_state : int\n",
    "      Random number generator seed for random weight\n",
    "      initialization.\n",
    "    \"\"\"\n",
    "    def __init__(self, eta=0.00005, n_iter=10000, eps=0.000001, random_state=1):\n",
    "        self.eta = eta\n",
    "        self.n_iter = n_iter\n",
    "        self.eps = eps\n",
    "        self.random_state = random_state\n",
    "        self.rand = np.random.seed(self.random_state)\n",
    "        self.theta = np.random.random(size=(1,3))\n",
    "        self.cost_list = []\n",
    "        \n",
    "    def add_bias(self, X):\n",
    "        return np.column_stack((np.ones(X.shape[0]), X))\n",
    "\n",
    "    def h_q(self, X):\n",
    "        return 1/(1+np.exp(-X.dot(self.theta.T)))\n",
    "    \n",
    "    def compute_cost(self, X, y):\n",
    "        h_x = self.h_q(X)\n",
    "        y = y.reshape(-1,1)\n",
    "        res = (-np.log(h_x)*y-np.log(1-h_x)*(1-y)).mean(axis=0).item()\n",
    "        if not np.isfinite(res):\n",
    "            return np.inf\n",
    "        return res\n",
    "    \n",
    "    def fit(self, X, y):\n",
    "        \"\"\" \n",
    "        Fit training data (the learning phase).\n",
    "        Updating the theta vector in each iteration using gradient descent.\n",
    "        Store the theta vector in an attribute of the LogisticRegressionGD object.\n",
    "        Stop the function when the difference between the previous cost and the current is less than eps\n",
    "        or when you reach n_iter.\n",
    "\n",
    "        Parameters\n",
    "        ----------\n",
    "        X : {array-like}, shape = [n_examples, n_features]\n",
    "          Training vectors, where n_examples is the number of examples and\n",
    "          n_features is the number of features.\n",
    "        y : array-like, shape = [n_examples]\n",
    "          Target values.\n",
    "\n",
    "        \"\"\"\n",
    "        X = self.add_bias(X)\n",
    "        self.cost_list.append(self.compute_cost(X,y))\n",
    "        \n",
    "        i = 0\n",
    "        while i < self.n_iter:\n",
    "            self.theta -= self.eta * (self.h_q(X) - y.reshape(-1,1)).T.dot(X)\n",
    "            self.cost_list.append(self.compute_cost(X, y))\n",
    "            if len(self.cost_list) > 1:\n",
    "                if self.cost_list[-2] - self.cost_list[-1] < self.eps:\n",
    "                    self.cost_list.pop()\n",
    "                    break            \n",
    "            i += 1     \n",
    "            \n",
    "    def predict(self, X):\n",
    "        \"\"\"Return the predicted class label\"\"\"\n",
    "        X = self.add_bias(X)\n",
    "        return np.where(self.h_q(X) > 0.5,1,0)\n",
    "    \n",
    "    def compute_accuarcy(self, X_testset, Y_testset):\n",
    "        return (sum(self.predict(X_testset)==Y_testset.reshape(-1,1))/Y_testset.shape[0]).item()"
   ]
  },
  {
   "cell_type": "markdown",
   "metadata": {},
   "source": [
    "## Cross Validation\n",
    "\n",
    "(5 points)\n",
    "\n",
    "Use 5-fold cross validation in order to find the best eps and eta params from the given lists.\n",
    "\n",
    "Shuffle the training set before you split the data to the folds."
   ]
  },
  {
   "cell_type": "code",
   "execution_count": 9,
   "metadata": {},
   "outputs": [],
   "source": [
    "def shuffle(X_training, y_training):\n",
    "    shuffler = np.random.permutation(X_training.shape[0])\n",
    "    return X_training[shuffler], y_training[shuffler]"
   ]
  },
  {
   "cell_type": "code",
   "execution_count": 10,
   "metadata": {
    "scrolled": true
   },
   "outputs": [],
   "source": [
    "etas = [0.05, 0.005, 0.0005, 0.00005, 0.000005]\n",
    "epss = [0.01, 0.001, 0.0001, 0.00001, 0.000001]\n",
    "\n",
    "def fold_cross_validation(fold, X, y, etas, epss):\n",
    "    acc_list = []\n",
    "    eta_eps_list = []\n",
    "    m = X.shape[0]//fold\n",
    "    for eta in etas:\n",
    "        for eps in epss:\n",
    "            X_shuffled, y_shuffled = shuffle(X_training=X, y_training=y)\n",
    "            print(f'Eta: {eta} Eps: {eps}')\n",
    "            for i in range(fold):\n",
    "                X_training_n = np.delete(X_shuffled, range(i*m,(i+1)*m), 0)\n",
    "                X_test_n = X_shuffled[i*m:(i+1)*m]\n",
    "                y_training_n = np.delete(y_shuffled, range(i*m,(i+1)*m), 0)\n",
    "                y_test_n = y_shuffled[i*m:(i+1)*m]\n",
    "                log_reg = LogisticRegressionGD(eta=eta,eps=eps)\n",
    "                log_reg.fit(X_training_n, y_training_n)\n",
    "                acc_list.append(log_reg.compute_accuarcy(X_testset=X_test_n, Y_testset=y_test_n))\n",
    "                eta_eps_list.append([eta,eps])\n",
    "                \n",
    "    print(f'\\nBest eta is: {eta_eps_list[np.argmax(acc_list)][0]}\\nBest eps is: {eta_eps_list[np.argmax(acc_list)][1]}\\nBest accuracy is: {np.max(acc_list)*100}%')           \n",
    "    return eta_eps_list[np.argmax(acc_list)], np.max(acc_list)"
   ]
  },
  {
   "cell_type": "code",
   "execution_count": 11,
   "metadata": {},
   "outputs": [
    {
     "name": "stdout",
     "output_type": "stream",
     "text": [
      "Eta: 0.05 Eps: 0.01\n",
      "Eta: 0.05 Eps: 0.001\n",
      "Eta: 0.05 Eps: 0.0001\n",
      "Eta: 0.05 Eps: 1e-05\n",
      "Eta: 0.05 Eps: 1e-06\n",
      "Eta: 0.005 Eps: 0.01\n",
      "Eta: 0.005 Eps: 0.001\n",
      "Eta: 0.005 Eps: 0.0001\n",
      "Eta: 0.005 Eps: 1e-05\n",
      "Eta: 0.005 Eps: 1e-06\n",
      "Eta: 0.0005 Eps: 0.01\n",
      "Eta: 0.0005 Eps: 0.001\n",
      "Eta: 0.0005 Eps: 0.0001\n",
      "Eta: 0.0005 Eps: 1e-05\n",
      "Eta: 0.0005 Eps: 1e-06\n",
      "Eta: 5e-05 Eps: 0.01\n",
      "Eta: 5e-05 Eps: 0.001\n",
      "Eta: 5e-05 Eps: 0.0001\n",
      "Eta: 5e-05 Eps: 1e-05\n",
      "Eta: 5e-05 Eps: 1e-06\n",
      "Eta: 5e-06 Eps: 0.01\n",
      "Eta: 5e-06 Eps: 0.001\n",
      "Eta: 5e-06 Eps: 0.0001\n",
      "Eta: 5e-06 Eps: 1e-05\n",
      "Eta: 5e-06 Eps: 1e-06\n",
      "\n",
      "Best eta is: 5e-05\n",
      "Best eps is: 1e-06\n",
      "Best accuracy is: 82.75%\n"
     ]
    },
    {
     "data": {
      "text/plain": [
       "([5e-05, 1e-06], 0.8275)"
      ]
     },
     "execution_count": 11,
     "metadata": {},
     "output_type": "execute_result"
    }
   ],
   "source": [
    "fold_cross_validation(fold=5, X=X_training, y = y_training, etas=etas, epss=epss)"
   ]
  },
  {
   "cell_type": "markdown",
   "metadata": {},
   "source": [
    "## Normal distribution pdf\n",
    "\n",
    "(2 Points)\n",
    "\n",
    "Implement the normal distribution pdf \n",
    "$$\n",
    "f(x;\\mu,\\sigma) = \\frac{1}{\\sigma\\sqrt{2\\pi}}e^{-\\frac{1}{2}\\big{(}\\frac{x-\\mu}{\\sigma}\\big{)}^2}\n",
    "$$\n",
    "Write an efficient vectorized code"
   ]
  },
  {
   "cell_type": "code",
   "execution_count": 12,
   "metadata": {},
   "outputs": [],
   "source": [
    "# calc normal pdf    \n",
    "def norm_pdf(data, mu, sigma):\n",
    "    exp_arg = np.exp(-0.5 * np.square((data-mu)/sigma))\n",
    "    return exp_arg / sigma * np.sqrt(2*np.pi)"
   ]
  },
  {
   "cell_type": "markdown",
   "metadata": {},
   "source": [
    "## Expectation Maximization\n",
    "\n",
    "(15 Points)\n",
    "\n",
    "Implement the Expectation Maximization algorithm for gaussian mixture model.\n",
    "\n",
    "The class should hold the distribution params.\n",
    "\n",
    "Use -log likelihood as the cost function:\n",
    "$$\n",
    "cost(x) = \\sum_{d=1}^{m}-log(w * pdf(x; \\mu, \\sigma))\n",
    "$$\n",
    "\n",
    "\\* The above is the cost of one gaussian. Think how to use the cost function for gaussian mixture.\n",
    "\n",
    "Your class should contain the following functions:\n",
    "1. init_params - initialize distribution params\n",
    "1. expectation - calculating responsibilities\n",
    "1. maximization - updating distribution params\n",
    "1. fit - the learning function\n",
    "1. get_dist_params - return the distribution params\n",
    "\n",
    "\\* You can add more functions if you think this is necessary\n",
    "\n",
    "Don't change the eps params (eps=0.01)\n",
    "\n",
    "When you need to calculate the pdf of a normal distribution use the function `norm_pdf` that you implemented above."
   ]
  },
  {
   "cell_type": "code",
   "execution_count": 40,
   "metadata": {},
   "outputs": [],
   "source": [
    "class EM(object):\n",
    "    \"\"\"\n",
    "    Naive Bayes Classifier using Gauusian Mixture Model (EM) for calculating the likelihood.\n",
    "\n",
    "    Parameters\n",
    "    ------------\n",
    "    k : int\n",
    "      Number of gaussians in each dimension\n",
    "    n_iter : int\n",
    "      Passes over the training dataset in the EM proccess\n",
    "    eps: float\n",
    "      minimal change in the cost to declare convergence\n",
    "    random_state : int\n",
    "      Random number generator seed for random params initialization.\n",
    "    \"\"\"\n",
    "    \n",
    "    def __init__(self, k=1, n_iter=1000, eps=0.01, random_state=1, cons = 5):\n",
    "        self.k = k\n",
    "        self.n_iter = n_iter\n",
    "        self.eps = eps\n",
    "        self.random_state = random_state\n",
    "        self.rand = np.random.seed(self.random_state)\n",
    "        self.cons = cons\n",
    "        \n",
    "    def init_params(self, data): # initial guesses for parameters\n",
    "        \"\"\"\n",
    "        Initialize distribution params\n",
    "        \"\"\"\n",
    "        self.w = np.ones(shape = (1,self.k)) / self.k\n",
    "        self.mu = np.random.rand(1,self.k)\n",
    "        self.sigma = np.random.rand(1,self.k) + self.cons\n",
    "\n",
    "    def expectation(self, data):\n",
    "        \"\"\"\n",
    "        E step - calculating responsibilities\n",
    "        \"\"\"\n",
    "        pdf_w = self.w * norm_pdf(data, self.mu, self.sigma)\n",
    "        sum_vec = pdf_w.sum(axis=1).reshape(-1,1)\n",
    "        responsibility_mat = pdf_w/sum_vec\n",
    "        self.liklihood = pdf_w\n",
    "        self.responsibility_mat = responsibility_mat\n",
    "        \n",
    "    def maximization(self, data):\n",
    "        \"\"\"\n",
    "        M step - updating distribution params\n",
    "        \"\"\"\n",
    "        responsibility_mat = self.responsibility_mat\n",
    "        new_w_N = responsibility_mat.sum(axis=0).reshape(-1,1)\n",
    "        data_duplicated = np.tile(np.array([data]).T, (1, self.k))\n",
    "        \n",
    "        self.w = responsibility_mat.mean(axis=0).reshape(1, -1)\n",
    "        self.mu = (1 / new_w_N * responsibility_mat.T.dot(data)).T\n",
    "        \n",
    "        data_mu = np.divide(data_duplicated, self.mu)\n",
    "        sigma = np.diag((np.divide(np.matmul(self.responsibility_mat.T, data_mu ** 2),\\\n",
    "                               self.w * np.shape(self.responsibility_mat)[0]) ** 0.5).reshape(self.k,self.k))\n",
    "        self.sigma = sigma.reshape(1,-1)\n",
    "                \n",
    "    def compute_cost(self,data):\n",
    "        return np.sum(-np.log(self.liklihood))\n",
    "    \n",
    "    def fit(self, data):\n",
    "        \"\"\" \n",
    "        Fit training data (the learning phase).\n",
    "        Use init_params and then expectation and maximization function in order to find params \n",
    "        for the distribution. \n",
    "        Store the params in attributes of the EM object.\n",
    "        Stop the function when the difference between the previous cost and the current is less than eps\n",
    "        or when you reach n_iter.\n",
    "        \"\"\"\n",
    "        self.cost_list = []\n",
    "        self.init_params(data)\n",
    "        self.cost_list.append(self.compute_cost(data))\n",
    "        i = 0\n",
    "        while i < self.n_iter:\n",
    "            self.expectation(data)\n",
    "            self.maximization(data)\n",
    "            cost = self.compute_cost(data)\n",
    "            if len(self.cost_list) > 1:\n",
    "                if abs(self.cost_list[-1] - cost) > self.eps:\n",
    "                    self.cost_list.append(cost)\n",
    "            i += 1   \n",
    "            \n",
    "    def get_dist_params(self):\n",
    "        return self.w, self.mu, self.sigma"
   ]
  },
  {
   "cell_type": "code",
   "execution_count": 47,
   "metadata": {},
   "outputs": [
    {
     "name": "stdout",
     "output_type": "stream",
     "text": [
      "w:[[0.41690074 0.58309926]]\n",
      "mu:[[-1.94096165  4.04294341]]\n",
      "sigma:[[1.12676184 1.03188892]]\n"
     ]
    }
   ],
   "source": [
    "data = training_set.loc[training_set['y'] == 0, 'x1'].values.reshape(-1,1)\n",
    "em = EM(k=2)\n",
    "em.init_params(data)\n",
    "em.expectation(data)\n",
    "em.fit(data)\n",
    "print(f'w:{em.get_dist_params()[0]}\\nmu:{em.get_dist_params()[1]}\\nsigma:{em.get_dist_params()[2]}')"
   ]
  },
  {
   "cell_type": "markdown",
   "metadata": {},
   "source": [
    "## Naive Bayes\n",
    "\n",
    "(15 Points)\n",
    "\n",
    "Implement the Naive Bayes algorithm.\n",
    "\n",
    "For calculating the likelihood use the EM algorithm that you implemented above to find the distribution params. With these params you can calculate the likelihood probability.\n",
    "\n",
    "Calculate the prior probability directly from the training set.\n",
    "\n",
    "Your class should contain the following functions:\n",
    "1. fit - the learning function\n",
    "1. predict - the function for predicting an instance (or instances) after the fit function was executed\n",
    "\n",
    "\\* You can add more functions if you think this is necessary\n"
   ]
  },
  {
   "cell_type": "code",
   "execution_count": 38,
   "metadata": {},
   "outputs": [],
   "source": [
    "class NaiveBayesGaussian(object):\n",
    "    \"\"\"\n",
    "    Naive Bayes Classifier using Gauusian Mixture Model (EM) for calculating the likelihood.\n",
    "\n",
    "    Parameters\n",
    "    ------------\n",
    "    k : int\n",
    "      Number of gaussians in each dimension\n",
    "    random_state : int\n",
    "      Random number generator seed for random params initialization.\n",
    "    \"\"\"\n",
    "    \n",
    "    def __init__(self, k=1, w=None, mu=None, sigma=None):\n",
    "        self.k = k\n",
    "        self.w = w\n",
    "        self.mu = mu\n",
    "        self.sigma =sigma\n",
    "        \n",
    "    def fit_(self, X, y):\n",
    "        \"\"\" \n",
    "        Fit training data.\n",
    "\n",
    "        Parameters\n",
    "        ----------\n",
    "        X : array-like, shape = [n_examples, n_features]\n",
    "          Training vectors, where n_examples is the number of examples and\n",
    "          n_features is the number of features.\n",
    "        y : array-like, shape = [n_examples]\n",
    "          Target values.\n",
    "        \"\"\"\n",
    "        print(self.mu)\n",
    "        print(self.sigma)\n",
    "        \n",
    "        liklihood_mat = pdf(X, self.mu, self.sigma)\n",
    "        posterior_mat = self.w * liklihood_mat\n",
    "        \n",
    "        return posterior_mat\n",
    "    \n",
    "    def predict(self, X):\n",
    "        \"\"\"Return the predicted class label\"\"\"\n",
    "        pass\n"
   ]
  },
  {
   "cell_type": "code",
   "execution_count": 49,
   "metadata": {},
   "outputs": [],
   "source": [
    "def result_naive(data, k, X_predict, X, y):\n",
    "    em = EM(k)\n",
    "    em.init_params(data)\n",
    "    em.expectation(data)\n",
    "    em.fit(data)\n",
    "    w, mu, sigma = em.get_dist_params()\n",
    "    naivebayes_gaussian = NaiveBayesGaussian(k, w, mu, sigma)\n",
    "    naivebayes_gaussian.fit(X,y)"
   ]
  },
  {
   "cell_type": "markdown",
   "metadata": {},
   "source": [
    "## Model evaluation\n",
    "\n",
    "(20 points)\n",
    "\n",
    "In this section you will build 2 models and fit them to 2 datasets\n",
    "\n",
    "First 1000 training points and first 500 test points:\n",
    "1. Use the first 1000 points from the training set (take the first original 1000 points - before the shuffle) and the first 500 points from the test set.\n",
    "1. Fit Logistic Regression model with the best params you found earlier.\n",
    "1. Fit Naive Bayes model. Remember that you need to select the number of gaussians in the EM.\n",
    "1. Print the training and test accuracies for each model.\n",
    "1. Use the `plot_decision_regions` function to plot the decision boundaries for each model (for this you need to use the training set as the input)\n",
    "1. Plot the cost Vs the iteration number for the Logistic Regression model\n",
    "\n",
    "Use all the training set points:\n",
    "1. Repeat sections 2-6 for all the training set points\n",
    "1. Provide one or two sentences on each graph explaining what you observe in the graph.\n",
    "\n",
    "#### Don't forget to label your graphs ####"
   ]
  },
  {
   "cell_type": "code",
   "execution_count": null,
   "metadata": {},
   "outputs": [],
   "source": [
    "#### Your code here ####"
   ]
  },
  {
   "cell_type": "markdown",
   "metadata": {},
   "source": [
    "## Open question\n",
    "\n",
    "(20 points) \n",
    "\n",
    "1. In this homework we explored two types of models: Naive Bayes using EM, and Logistic regression.  \n",
    "   1. Generate a dataset, in 3 dimensions (3 features), with 2 classes, using **only** Multivariate-Gaussians (as many as you want) that you think **Naive Bayes will work better than Logisitc Regression**.\n",
    "   2. Generate another dataset, in 3 dimensions (3 features), with 2 classes, using **only** Multivariate-Gaussians (as many as you want) that you think **Logistic Regression will work better than Naive Bayes**.\n",
    "   \n",
    "   - Explain the reasoning behind each dataset.  \n",
    "\n",
    "2. Visualize the datasets.  \n",
    "   You can choose one of two options for the visualization:\n",
    "    1. Plot three 2d graphs of all the features against each other (feature1 vs feature2, feature1 vs feature3, feature2 vs feature3).\n",
    "    2. Plot one 3d graph.\n",
    "\n",
    "**Important Note**  \n",
    "For this question only, you may use:  \n",
    "```\n",
    "from scipy.stats import multivariate_normal\n",
    "```"
   ]
  },
  {
   "cell_type": "markdown",
   "metadata": {},
   "source": [
    "#### Your code and explanations here ####\n"
   ]
  },
  {
   "cell_type": "code",
   "execution_count": null,
   "metadata": {},
   "outputs": [],
   "source": []
  }
 ],
 "metadata": {
  "kernelspec": {
   "display_name": "Python 3 (ipykernel)",
   "language": "python",
   "name": "python3"
  },
  "language_info": {
   "codemirror_mode": {
    "name": "ipython",
    "version": 3
   },
   "file_extension": ".py",
   "mimetype": "text/x-python",
   "name": "python",
   "nbconvert_exporter": "python",
   "pygments_lexer": "ipython3",
   "version": "3.9.7"
  }
 },
 "nbformat": 4,
 "nbformat_minor": 4
}
